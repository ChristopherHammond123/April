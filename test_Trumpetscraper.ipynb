{
 "cells": [
  {
   "cell_type": "code",
   "execution_count": 1,
   "metadata": {},
   "outputs": [],
   "source": [
    "import unittest\n",
    "from TrumpetScraperPackage import trumpet_scraper\n",
    "import time"
   ]
  },
  {
   "cell_type": "code",
   "execution_count": 59,
   "metadata": {},
   "outputs": [],
   "source": [
    "class TestScraper(unittest.TestCase):\n",
    "\tdef setUp(self):\n",
    "\t\tself.bot = trumpet_scraper.ScraperTrumpet('Trumpet')\n",
    "\n",
    "\tdef test_cookies_click(self):\n",
    "\t\tself.bot.accept_cookies(xpath='/html/body/div[1]/div[7]/div/div[3]/a')\n",
    "\t\tself.bot.driver.find_element_by_xpath('//*[@id=\"wrapper\"]/header')\n",
    "\n",
    "\tdef test_search(self):\n",
    "\t\tself.bot.search(xpath2='//*[@id=\"header_search_search_for\"]')\n",
    "\t\ttime.sleep(1)\n",
    "\t\tself.bot.driver.current_url\n",
    "\n",
    "\tdef test_scrape_trumpets(self):\n",
    "\t\tself.bot.scrape_trumpets()\n",
    "\t\ttime.sleep(2)\n",
    "\t\tactual_value = self.bot.driver.current_url\n",
    "\t\texpected_value = \"https://www.johnpacker.co.uk/search/Trumpet/\"\n",
    "\t\tself.assertEqual(actual_value, expected_value)\n",
    "\n",
    "\tdef tearDown(self):\n",
    "\t\tpass"
   ]
  },
  {
   "cell_type": "code",
   "execution_count": 60,
   "metadata": {},
   "outputs": [
    {
     "name": "stderr",
     "output_type": "stream",
     "text": [
      "test_cookies_click (__main__.TestScraper) ... \n",
      "\n",
      "INFO:WDM:\n",
      "\n",
      "====== WebDriver manager ======\n",
      "INFO:WDM:====== WebDriver manager ======\n",
      "Current google-chrome version is 98.0.4758\n",
      "INFO:WDM:Current google-chrome version is 98.0.4758\n",
      "Get LATEST chromedriver version for 98.0.4758 google-chrome\n",
      "INFO:WDM:Get LATEST chromedriver version for 98.0.4758 google-chrome\n",
      "Driver [/home/christopher/.wdm/drivers/chromedriver/linux64/98.0.4758.102/chromedriver] found in cache\n",
      "INFO:WDM:Driver [/home/christopher/.wdm/drivers/chromedriver/linux64/98.0.4758.102/chromedriver] found in cache\n",
      "ok\n",
      "test_scrape_trumpets (__main__.TestScraper) ... \n",
      "\n",
      "INFO:WDM:\n",
      "\n",
      "====== WebDriver manager ======\n",
      "INFO:WDM:====== WebDriver manager ======\n",
      "Current google-chrome version is 98.0.4758\n",
      "INFO:WDM:Current google-chrome version is 98.0.4758\n",
      "Get LATEST chromedriver version for 98.0.4758 google-chrome\n",
      "INFO:WDM:Get LATEST chromedriver version for 98.0.4758 google-chrome\n",
      "Driver [/home/christopher/.wdm/drivers/chromedriver/linux64/98.0.4758.102/chromedriver] found in cache\n",
      "INFO:WDM:Driver [/home/christopher/.wdm/drivers/chromedriver/linux64/98.0.4758.102/chromedriver] found in cache\n",
      "ok\n",
      "test_search (__main__.TestScraper) ... \n",
      "\n",
      "INFO:WDM:\n",
      "\n",
      "====== WebDriver manager ======\n",
      "INFO:WDM:====== WebDriver manager ======\n",
      "Current google-chrome version is 98.0.4758\n",
      "INFO:WDM:Current google-chrome version is 98.0.4758\n",
      "Get LATEST chromedriver version for 98.0.4758 google-chrome\n",
      "INFO:WDM:Get LATEST chromedriver version for 98.0.4758 google-chrome\n",
      "Driver [/home/christopher/.wdm/drivers/chromedriver/linux64/98.0.4758.102/chromedriver] found in cache\n",
      "INFO:WDM:Driver [/home/christopher/.wdm/drivers/chromedriver/linux64/98.0.4758.102/chromedriver] found in cache\n",
      "ok\n",
      "\n",
      "----------------------------------------------------------------------\n",
      "Ran 3 tests in 132.522s\n",
      "\n",
      "OK\n"
     ]
    }
   ],
   "source": [
    "if __name__ == '__main__':\n",
    "    unittest.main(argv=[''], verbosity=2, exit=False)"
   ]
  }
 ],
 "metadata": {
  "interpreter": {
   "hash": "ae82a0a75425b2bd694af93f8d81f01e4063419425b6c62ea6ea48aa581da085"
  },
  "kernelspec": {
   "display_name": "Python 3.9.5 ('base')",
   "language": "python",
   "name": "python3"
  },
  "language_info": {
   "codemirror_mode": {
    "name": "ipython",
    "version": 3
   },
   "file_extension": ".py",
   "mimetype": "text/x-python",
   "name": "python",
   "nbconvert_exporter": "python",
   "pygments_lexer": "ipython3",
   "version": "3.9.5"
  },
  "orig_nbformat": 4
 },
 "nbformat": 4,
 "nbformat_minor": 2
}
